{
 "cells": [
  {
   "cell_type": "code",
   "execution_count": 10,
   "id": "7d5a3dca",
   "metadata": {},
   "outputs": [],
   "source": [
    "from calc import inch_per_foot_to_mm_per_m"
   ]
  },
  {
   "cell_type": "code",
   "execution_count": null,
   "id": "5152035f",
   "metadata": {},
   "outputs": [],
   "source": [
    "# Nice summary:\n",
    "# https://www.climamed.eu/wp-content/uploads/files/Soil-water-balance-and-irrigation-scheduling_ClimaSouth.pdf"
   ]
  },
  {
   "cell_type": "code",
   "execution_count": 32,
   "id": "4939a24b",
   "metadata": {},
   "outputs": [],
   "source": [
    "# Root depth...\n",
    "# 6\" - 2' (15-61cm) from https://thrivingyard.com/grass-root-depth/\n",
    "# 80-150cm from https://besjournals.onlinelibrary.wiley.com/doi/10.1046/j.1365-2745.2002.00682.x\n",
    "# \"superior ryegrass/fescue blend\" from https://www.rolawn.co.uk/lawn-care/rolawn-medallion-premium-lawn-seed\n",
    "# gives 8-18\" (20-45cm) from https://turfgrass.ucr.edu/reports/cal_turf_culture/ctc35_1234.pdf\n",
    "root_depth = 0.5"
   ]
  },
  {
   "cell_type": "code",
   "execution_count": 21,
   "id": "1147a586",
   "metadata": {},
   "outputs": [
    {
     "data": {
      "text/plain": [
       "'saturation: 479 mm/m, field: 367 mm/m, wilt: 217 mm/m'"
      ]
     },
     "execution_count": 21,
     "metadata": {},
     "output_type": "execute_result"
    }
   ],
   "source": [
    "# based on:\n",
    "# https://dpipwe.tas.gov.au/Documents/2-Soil-Resources-V4.pdf\n",
    "# https://www.noble.org/news/publications/ag-news-and-views/2001/september/soil-and-water-relationships/\n",
    "\n",
    "# Assuming Clay Loam / Silty Clay Loam\n",
    "\n",
    "saturation_capacity = round((inch_per_foot_to_mm_per_m(6.1)+450)/2)\n",
    "field_capacity = round(inch_per_foot_to_mm_per_m(4.4))\n",
    "refill_pct = 0.5\n",
    "permanent_wilting_point = round(inch_per_foot_to_mm_per_m(2.6))\n",
    "\n",
    "f'saturation: {saturation_capacity} mm/m, field: {field_capacity} mm/m, wilt: {permanent_wilting_point} mm/m'"
   ]
  },
  {
   "cell_type": "code",
   "execution_count": 24,
   "id": "fae154f6",
   "metadata": {},
   "outputs": [
    {
     "data": {
      "text/plain": [
       "150"
      ]
     },
     "execution_count": 24,
     "metadata": {},
     "output_type": "execute_result"
    }
   ],
   "source": [
    "available_water_capacity = field_capacity - permanent_wilting_point\n",
    "available_water_capacity"
   ]
  },
  {
   "cell_type": "code",
   "execution_count": 35,
   "id": "67bc30a3",
   "metadata": {},
   "outputs": [
    {
     "data": {
      "text/plain": [
       "75.0"
      ]
     },
     "execution_count": 35,
     "metadata": {},
     "output_type": "execute_result"
    }
   ],
   "source": [
    "# From https://www.etgage.com/IrrigManage/AllowableDepletion.pdf\n",
    "# Turf is 80%\n",
    "maximum_allowable_depletion = 0.5*available_water_capacity\n",
    "maximum_allowable_depletion"
   ]
  },
  {
   "cell_type": "code",
   "execution_count": 36,
   "id": "baadea5b",
   "metadata": {},
   "outputs": [
    {
     "data": {
      "text/plain": [
       "292.0"
      ]
     },
     "execution_count": 36,
     "metadata": {},
     "output_type": "execute_result"
    }
   ],
   "source": [
    "refill_point = field_capacity - maximum_allowable_depletion\n",
    "refill_point"
   ]
  },
  {
   "cell_type": "code",
   "execution_count": 37,
   "id": "b476b3ba",
   "metadata": {},
   "outputs": [
    {
     "name": "stdout",
     "output_type": "stream",
     "text": [
      "amount to refill: 37.5\n"
     ]
    }
   ],
   "source": [
    "print(f'amount to refill:', (field_capacity-refill_point)*root_depth)"
   ]
  },
  {
   "cell_type": "code",
   "execution_count": 38,
   "id": "dca3b8a1",
   "metadata": {},
   "outputs": [
    {
     "data": {
      "text/plain": [
       "'saturation capacity: 239.5 mm'"
      ]
     },
     "metadata": {},
     "output_type": "display_data"
    },
    {
     "data": {
      "text/plain": [
       "'field capacity: 183.5 mm'"
      ]
     },
     "metadata": {},
     "output_type": "display_data"
    },
    {
     "data": {
      "text/plain": [
       "'refill point: 146.0 mm'"
      ]
     },
     "metadata": {},
     "output_type": "display_data"
    },
    {
     "data": {
      "text/plain": [
       "'permanent wilting point: 108.5 mm/m'"
      ]
     },
     "metadata": {},
     "output_type": "display_data"
    }
   ],
   "source": [
    "# So, for the root depth, this comes out as:\n",
    "display(f'saturation capacity: {saturation_capacity*root_depth} mm',\n",
    "        f'field capacity: {field_capacity*root_depth} mm', \n",
    "        f'refill point: {refill_point*root_depth} mm', \n",
    "        f'permanent wilting point: {permanent_wilting_point*root_depth} mm/m')"
   ]
  }
 ],
 "metadata": {
  "kernelspec": {
   "display_name": "Python 3",
   "language": "python",
   "name": "python3"
  },
  "language_info": {
   "codemirror_mode": {
    "name": "ipython",
    "version": 3
   },
   "file_extension": ".py",
   "mimetype": "text/x-python",
   "name": "python",
   "nbconvert_exporter": "python",
   "pygments_lexer": "ipython3",
   "version": "3.9.2"
  }
 },
 "nbformat": 4,
 "nbformat_minor": 5
}
